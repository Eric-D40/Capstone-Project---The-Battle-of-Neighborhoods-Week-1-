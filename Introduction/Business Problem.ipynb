{
    "cells": [
        {
            "cell_type": "markdown",
            "metadata": {
                "collapsed": true
            },
            "source": "## Capstone Project - The Battle of Neighborhoods Part 1\n"
        },
        {
            "cell_type": "markdown",
            "metadata": {},
            "source": "## **Introduction**\n In 2019 the conservative government won the general election running on their main manifesto of getting Brexit done. If or when the Brexit process is complete, EU migrants will not have automatc right to come to settle in the UK. As a result of this many EU nationals including EU doctors and Nurses are returning to their countries of origin.Another Key promise of the conservative government during the 2019 general election campaign was to improve the NHS, promising thousands more nurses and doctors.  The government aim to attract thousands of foreign nurses and doctors from all over the world especially from commonwealth countries.\n\n## Business Problem\n So I have been approached by a marketing company employed by the London NHS trust (Stakeholder) to produce a report about London to help sell the City to potential foreign doctors and nurses who may be considering coming to work in the UK. This marketing material is to help convinced these potential health workers(Target Audience) to choose settling and working in London and also help decide which London Borough to settle.\n\n## The Location\nLondon is the capital and largest city of England and the United Kingdom.Standing on the River Thames in the south-east of England, at the head of its 50-mile (80 km) estuary leading to the North Sea, London has been a major settlement for two millennia.London is considered to be one of the world's most important global cities and has been termed the world's most powerful,most desirable,most influential,most visited,most expensive,innovative, sustainable,most investment friendly, and most popular for work city in the world. London exerts a considerable impact upon the arts, commerce, education, entertainment, fashion, finance, healthcare, media, professional services, research and development, tourism and transportation.\n\nLondon ranks 26 out of 300 major cities for economic performance.It is one of the largest financial centres and has either the fifth or sixth largest metropolitan area GDP.It is the most-visited city as measured by international arrivals and has the busiest city airport system as measured by passenger traffic.It is the leading investment destination hosting more international retailers and ultra high-net-worth individuals than any other city.\n## Objectives\nI intend to explore London to show what London has got to offer our target audience in terms of venues and show the crime rates of each boroughs.I also intend to explore the various neighbourhoods and Boroughs to help the potential NHS health worker to decide on which neighbourhood he/she will like to settle based on the venues or amenities important to him/her. The stakeholder is willing to provide a good resettlement package which includes taking care of rent for the first three years hence no need to look at rent or housing cost in this project. London has a very developed underground trains and Buses network that link every part of London. Transport for London information pack will be provided to our stakeholders to provide detailed tranport information to enable the target audience get a total view of London.\n"
        },
        {
            "cell_type": "markdown",
            "metadata": {},
            "source": "# Data Section"
        },
        {
            "cell_type": "markdown",
            "metadata": {},
            "source": " ## Data Acquisition and Preprocessing \n\n### In this project, I will be using the following datasets to help solve my problem:\n* London Borough data will be scraped from its wikipedia page using libraries like requests, lxml and BeautifulSoup\n* The downloaded crime data for London from  https https://data.london.gov.uk/dataset/recorded_crime_summary\n* Use Foursquare and geopy dtata to list various selected venues that I believe will be important for our target audience.\n* I will mainly rely on Foursquare API to retrieve all venues of each neighborhoods, then group by each neighborhoods and count how many venues \n* The target audience will be given the top ten venues of each neighbourhood so they could look at them in determining which neighbourhood to settle\n* Neighborhoods or Boroughs will be clustered into different groups based on commom attributes."
        },
        {
            "cell_type": "code",
            "execution_count": null,
            "metadata": {},
            "outputs": [],
            "source": ""
        }
    ],
    "metadata": {
        "kernelspec": {
            "display_name": "Python 3.6",
            "language": "python",
            "name": "python3"
        },
        "language_info": {
            "codemirror_mode": {
                "name": "ipython",
                "version": 3
            },
            "file_extension": ".py",
            "mimetype": "text/x-python",
            "name": "python",
            "nbconvert_exporter": "python",
            "pygments_lexer": "ipython3",
            "version": "3.6.8"
        }
    },
    "nbformat": 4,
    "nbformat_minor": 1
}