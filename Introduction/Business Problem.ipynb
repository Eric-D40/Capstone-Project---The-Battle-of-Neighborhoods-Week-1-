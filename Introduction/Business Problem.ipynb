{
    "cells": [
        {
            "cell_type": "markdown",
            "metadata": {
                "collapsed": true
            },
            "source": "## Capstone Project - The Battle of Neighborhoods Part 1\n"
        },
        {
            "cell_type": "markdown",
            "metadata": {},
            "source": "## **Introduction**\n### In 2019 the conservative government won the general election running on their main manifesto of getting Brexit done. If or when the Brexit process is complete, EU migrants will not have automatc right to come to settle in the UK. As a result of this many EU nationals including EU doctors and Nurses are returning to their countries of origin.Another Key promise of the conservative government during the 2019 general election campaign was to improve the NHS, promising thousands more nurses and doctors.  The government aim to attract thousands of foreign nurses and doctors from all over the world especially from commonwealth countries.\n\n## Business Problem\n### So I have been approached by a marketing company employed by the Leicesters NHS trust (Stakeholder) to produce a report about Leicester to help sell the City to potential foreign doctors and nurses who may be considering coming to work in the UK. This marketing material is to help convinced these potential health workers(Target Audience) to choose settling and working in Leicester.\n\n## The Location\n### Leicester is a city and unitary authority area in the East Midlands of England, and the county town of Leicestershire. The city lies on the River Soar and close to the eastern end of the National Forest. It is to the north-east of Birmingham and Coventry, south of Nottingham, and west of Peterborough. The 2016 mid year estimate of the population of the City of Leicester unitary authority was 348,300, an increase of approximately 18,500 (Increase 5.6%) from the 2011 census figure of 329,839, making it the most populous municipality in the East Midlands region. The associated urban area is also the 11th most populous in England and the 13th most populous in the United Kingdom.\n\n## Objectives\n### I intend to explore Leicesters to show most if not all of the various social amenities like Schools, Hospitals, Leisure Centres,  Parks, Children play centres , Libraries, Gyms , Restaurants  etc.I also intend to explore the various neighbourhoods to help the potential NHS health worker to decide on which neighbourhood he/she will like to settle based on the venues or amenities important to him/her. The stakeholder is willing to provide a good resettlement package which includes taking care of rent for the first three years hence no need to look at rent or housing cost in this project. Leicester does not have metro or underground trains but have a well developed bus network that links every part of Leicester either directly or via the the main bus station at the city centre.\n"
        },
        {
            "cell_type": "code",
            "execution_count": null,
            "metadata": {},
            "outputs": [],
            "source": ""
        }
    ],
    "metadata": {
        "kernelspec": {
            "display_name": "Python 3.6",
            "language": "python",
            "name": "python3"
        },
        "language_info": {
            "codemirror_mode": {
                "name": "ipython",
                "version": 3
            },
            "file_extension": ".py",
            "mimetype": "text/x-python",
            "name": "python",
            "nbconvert_exporter": "python",
            "pygments_lexer": "ipython3",
            "version": "3.6.8"
        }
    },
    "nbformat": 4,
    "nbformat_minor": 1
}