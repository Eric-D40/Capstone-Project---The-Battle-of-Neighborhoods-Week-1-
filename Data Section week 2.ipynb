{
    "cells": [
        {
            "cell_type": "markdown",
            "metadata": {
                "collapsed": true
            },
            "source": "# Data Section"
        },
        {
            "cell_type": "markdown",
            "metadata": {},
            "source": " ## Data Acquisition and Preprocessing \n\n### In this project, I will be using the following datasets to help solve my problem:\n* The downloaded Postcode for the city of Leicester from https://www.doogal.co.uk/london_postcodes.php \n* Foursquare and geopy data to list various selected venues that I believe will be important for our target audience.\n* The downloaded crime data for London from  https://data.london.gov.uk/dataset/recorded_crime_summary\n \n* I will then filter the top 10 most common venue types of each neighborhoods. \n* The target audience will be given the top ten venues of each neighbourhood so they could look at them in determining which neighbourhood to settle "
        },
        {
            "cell_type": "markdown",
            "metadata": {},
            "source": "## Methodology\n* I will mainly rely on Foursquare API to retrieve all venues of each neighborhoods, then group by each neighborhoods and count how many venues\n* I will then filter the top 10 most common venue types of each neighborhoods. \n* I will also explore and analyse the crime data and show which neighborhoods are safe or not.\n* The target audience will be given the top ten venues of each neighbourhood so they could look at them in determining which neighbourhood to settle.\n* The target audience will be shown the crime levels of all the boroughs and or neighborhoods\n* Since the postcode data of London and crime data have  already been downloaded, there is no need to scrape these data from  wikipedia pages."
        },
        {
            "cell_type": "code",
            "execution_count": 1,
            "metadata": {},
            "outputs": [],
            "source": "import pandas as pd\nimport numpy as np"
        },
        {
            "cell_type": "code",
            "execution_count": 2,
            "metadata": {},
            "outputs": [
                {
                    "data": {
                        "text/html": "<div>\n<style scoped>\n    .dataframe tbody tr th:only-of-type {\n        vertical-align: middle;\n    }\n\n    .dataframe tbody tr th {\n        vertical-align: top;\n    }\n\n    .dataframe thead th {\n        text-align: right;\n    }\n</style>\n<table border=\"1\" class=\"dataframe\">\n  <thead>\n    <tr style=\"text-align: right;\">\n      <th></th>\n      <th>Unnamed: 0</th>\n      <th>Unnamed: 1</th>\n      <th>BOROUGH PROFILES</th>\n      <th>Unnamed: 3</th>\n      <th>Unnamed: 4</th>\n      <th>Unnamed: 5</th>\n      <th>Unnamed: 6</th>\n      <th>Unnamed: 7</th>\n      <th>Unnamed: 8</th>\n      <th>Unnamed: 9</th>\n      <th>Unnamed: 10</th>\n      <th>Unnamed: 11</th>\n      <th>Unnamed: 12</th>\n      <th>Unnamed: 13</th>\n      <th>Unnamed: 14</th>\n      <th>Unnamed: 15</th>\n      <th></th>\n    </tr>\n  </thead>\n  <tbody>\n    <tr>\n      <th>0</th>\n      <td>NaN</td>\n      <td>NaN</td>\n      <td>NaN</td>\n      <td>NaN</td>\n      <td>NaN</td>\n      <td>NaN</td>\n      <td>NaN</td>\n      <td>NaN</td>\n      <td>NaN</td>\n      <td>NaN</td>\n      <td>NaN</td>\n      <td>NaN</td>\n      <td>NaN</td>\n      <td>NaN</td>\n      <td>NaN</td>\n      <td>NaN</td>\n      <td>NaN</td>\n    </tr>\n    <tr>\n      <th>1</th>\n      <td>NaN</td>\n      <td>Choose Borough</td>\n      <td>NaN</td>\n      <td>Barking and Dagenham</td>\n      <td>NaN</td>\n      <td>NaN</td>\n      <td>NaN</td>\n      <td>NaN</td>\n      <td>NaN</td>\n      <td>NaN</td>\n      <td>NaN</td>\n      <td>NaN</td>\n      <td>NaN</td>\n      <td>NaN</td>\n      <td>NaN</td>\n      <td>NaN</td>\n      <td>NaN</td>\n    </tr>\n    <tr>\n      <th>2</th>\n      <td>NaN</td>\n      <td>NaN</td>\n      <td>NaN</td>\n      <td>NaN</td>\n      <td>NaN</td>\n      <td>NaN</td>\n      <td>NaN</td>\n      <td>NaN</td>\n      <td>NaN</td>\n      <td>NaN</td>\n      <td>NaN</td>\n      <td>NaN</td>\n      <td>NaN</td>\n      <td>NaN</td>\n      <td>NaN</td>\n      <td>NaN</td>\n      <td>NaN</td>\n    </tr>\n    <tr>\n      <th>3</th>\n      <td>NaN</td>\n      <td>NaN</td>\n      <td>NaN</td>\n      <td>NaN</td>\n      <td>NaN</td>\n      <td>NaN</td>\n      <td>NaN</td>\n      <td>NaN</td>\n      <td>NaN</td>\n      <td>NaN</td>\n      <td>NaN</td>\n      <td>NaN</td>\n      <td>NaN</td>\n      <td>NaN</td>\n      <td>NaN</td>\n      <td>NaN</td>\n      <td>NaN</td>\n    </tr>\n    <tr>\n      <th>4</th>\n      <td>Theme</td>\n      <td>Indicator</td>\n      <td>Barking and Dagenham</td>\n      <td>Outer London</td>\n      <td>London</td>\n      <td>National comparator</td>\n      <td>NaN</td>\n      <td>National Comparator figure is:</td>\n      <td>Source</td>\n      <td>Link</td>\n      <td>NaN</td>\n      <td>NaN</td>\n      <td>NaN</td>\n      <td>NaN</td>\n      <td>NaN</td>\n      <td>NaN</td>\n      <td>NaN</td>\n    </tr>\n  </tbody>\n</table>\n</div>",
                        "text/plain": "  Unnamed: 0      Unnamed: 1      BOROUGH PROFILES            Unnamed: 3  \\\n0        NaN             NaN                   NaN                   NaN   \n1        NaN  Choose Borough                   NaN  Barking and Dagenham   \n2        NaN             NaN                   NaN                   NaN   \n3        NaN             NaN                   NaN                   NaN   \n4      Theme       Indicator  Barking and Dagenham          Outer London   \n\n  Unnamed: 4           Unnamed: 5  Unnamed: 6                      Unnamed: 7  \\\n0        NaN                  NaN         NaN                             NaN   \n1        NaN                  NaN         NaN                             NaN   \n2        NaN                  NaN         NaN                             NaN   \n3        NaN                  NaN         NaN                             NaN   \n4     London  National comparator         NaN  National Comparator figure is:   \n\n  Unnamed: 8 Unnamed: 9  Unnamed: 10  Unnamed: 11  Unnamed: 12  Unnamed: 13  \\\n0        NaN        NaN          NaN          NaN          NaN          NaN   \n1        NaN        NaN          NaN          NaN          NaN          NaN   \n2        NaN        NaN          NaN          NaN          NaN          NaN   \n3        NaN        NaN          NaN          NaN          NaN          NaN   \n4     Source       Link          NaN          NaN          NaN          NaN   \n\n   Unnamed: 14  Unnamed: 15      \n0          NaN          NaN NaN  \n1          NaN          NaN NaN  \n2          NaN          NaN NaN  \n3          NaN          NaN NaN  \n4          NaN          NaN NaN  "
                    },
                    "execution_count": 2,
                    "metadata": {},
                    "output_type": "execute_result"
                }
            ],
            "source": "# The code was removed by Watson Studio for sharing."
        },
        {
            "cell_type": "code",
            "execution_count": 4,
            "metadata": {},
            "outputs": [
                {
                    "name": "stdout",
                    "output_type": "stream",
                    "text": "<bound method NDFrame.head of Empty DataFrame\nColumns: [Unnamed: 0, Unnamed: 1, BOROUGH PROFILES, Unnamed: 3, Unnamed: 4, Unnamed: 5, Unnamed: 6, Unnamed: 7, Unnamed: 8, Unnamed: 9, Unnamed: 10, Unnamed: 11, Unnamed: 12, Unnamed: 13, Unnamed: 14, Unnamed: 15,   ]\nIndex: []>\n"
                }
            ],
            "source": "df_data_0 = df_data_0.dropna()\nprint(df_data_0.head)"
        },
        {
            "cell_type": "code",
            "execution_count": null,
            "metadata": {},
            "outputs": [],
            "source": ""
        }
    ],
    "metadata": {
        "kernelspec": {
            "display_name": "Python 3.6",
            "language": "python",
            "name": "python3"
        },
        "language_info": {
            "codemirror_mode": {
                "name": "ipython",
                "version": 3
            },
            "file_extension": ".py",
            "mimetype": "text/x-python",
            "name": "python",
            "nbconvert_exporter": "python",
            "pygments_lexer": "ipython3",
            "version": "3.6.8"
        }
    },
    "nbformat": 4,
    "nbformat_minor": 1
}